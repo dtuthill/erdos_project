{
 "cells": [
  {
   "cell_type": "code",
   "execution_count": 1,
   "metadata": {},
   "outputs": [],
   "source": [
    "import numpy as np\n",
    "import pandas as pd\n",
    "import matplotlib.pyplot as plt"
   ]
  },
  {
   "cell_type": "code",
   "execution_count": 2,
   "metadata": {},
   "outputs": [],
   "source": [
    "def logic_win(x,x_r):\n",
    "    return (x >= x_r[0]) & (x < x_r[1])\n",
    "\n",
    "def make_bins(xlim,dx):\n",
    "    Edges_x = np.arange(xlim[0],xlim[1]+dx,dx)\n",
    "    Bins_x = Edges_x[:-1]+dx/2\n",
    "    return Edges_x,Bins_x"
   ]
  },
  {
   "cell_type": "markdown",
   "metadata": {},
   "source": [
    "#### Goals with clustering\n",
    "\n",
    "- Try and find clusters of roads with similar properties\n",
    "- Might be good to pick subset of features for a first try (maybe ignore some of the unblanced classifiers)\n",
    "- Simple accident statistics can then be calculated on these groupings. Are some better than others?\n",
    "- Should probably do some cross validation on the groups that were found in the training set to see the variance of the accident statistics (we want error bars on the accident statistics)"
   ]
  },
  {
   "cell_type": "code",
   "execution_count": null,
   "metadata": {},
   "outputs": [],
   "source": []
  }
 ],
 "metadata": {
  "kernelspec": {
   "display_name": "3.8.6",
   "language": "python",
   "name": "3.8.6"
  },
  "language_info": {
   "codemirror_mode": {
    "name": "ipython",
    "version": 3
   },
   "file_extension": ".py",
   "mimetype": "text/x-python",
   "name": "python",
   "nbconvert_exporter": "python",
   "pygments_lexer": "ipython3",
   "version": "3.8.6"
  }
 },
 "nbformat": 4,
 "nbformat_minor": 4
}
