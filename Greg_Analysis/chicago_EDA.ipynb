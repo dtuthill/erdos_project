{
 "cells": [
  {
   "cell_type": "code",
   "execution_count": 1,
   "metadata": {},
   "outputs": [],
   "source": [
    "import numpy as np\n",
    "import matplotlib.pyplot as plt\n",
    "import pandas as pd"
   ]
  },
  {
   "cell_type": "code",
   "execution_count": 2,
   "metadata": {},
   "outputs": [],
   "source": [
    "path = '../Data/chicago/cycling_safety_chicago.csv'\n",
    "\n",
    "df = pd.read_csv(path)"
   ]
  },
  {
   "cell_type": "code",
   "execution_count": 3,
   "metadata": {},
   "outputs": [
    {
     "data": {
      "text/plain": [
       "['Unnamed: 0',\n",
       " 'CRASH_RECORD_ID',\n",
       " 'RD_NO',\n",
       " 'CRASH_DATE_EST_I',\n",
       " 'CRASH_DATE',\n",
       " 'POSTED_SPEED_LIMIT',\n",
       " 'TRAFFIC_CONTROL_DEVICE',\n",
       " 'DEVICE_CONDITION',\n",
       " 'WEATHER_CONDITION',\n",
       " 'LIGHTING_CONDITION',\n",
       " 'FIRST_CRASH_TYPE',\n",
       " 'TRAFFICWAY_TYPE',\n",
       " 'LANE_CNT',\n",
       " 'ALIGNMENT',\n",
       " 'ROADWAY_SURFACE_COND',\n",
       " 'ROAD_DEFECT',\n",
       " 'REPORT_TYPE',\n",
       " 'CRASH_TYPE',\n",
       " 'INTERSECTION_RELATED_I',\n",
       " 'NOT_RIGHT_OF_WAY_I',\n",
       " 'HIT_AND_RUN_I',\n",
       " 'DAMAGE',\n",
       " 'DATE_POLICE_NOTIFIED',\n",
       " 'PRIM_CONTRIBUTORY_CAUSE',\n",
       " 'SEC_CONTRIBUTORY_CAUSE',\n",
       " 'STREET_NO',\n",
       " 'STREET_DIRECTION',\n",
       " 'STREET_NAME',\n",
       " 'BEAT_OF_OCCURRENCE',\n",
       " 'PHOTOS_TAKEN_I',\n",
       " 'STATEMENTS_TAKEN_I',\n",
       " 'DOORING_I',\n",
       " 'WORK_ZONE_I',\n",
       " 'WORK_ZONE_TYPE',\n",
       " 'WORKERS_PRESENT_I',\n",
       " 'NUM_UNITS',\n",
       " 'MOST_SEVERE_INJURY',\n",
       " 'INJURIES_TOTAL',\n",
       " 'INJURIES_FATAL',\n",
       " 'INJURIES_INCAPACITATING',\n",
       " 'INJURIES_NON_INCAPACITATING',\n",
       " 'INJURIES_REPORTED_NOT_EVIDENT',\n",
       " 'INJURIES_NO_INDICATION',\n",
       " 'INJURIES_UNKNOWN',\n",
       " 'CRASH_HOUR',\n",
       " 'CRASH_DAY_OF_WEEK',\n",
       " 'CRASH_MONTH',\n",
       " 'LATITUDE',\n",
       " 'LONGITUDE',\n",
       " 'LOCATION',\n",
       " 'Date',\n",
       " 'Latitude',\n",
       " 'Longitude',\n",
       " 'geometry',\n",
       " 'index_right']"
      ]
     },
     "execution_count": 3,
     "metadata": {},
     "output_type": "execute_result"
    }
   ],
   "source": [
    "list(df.keys())"
   ]
  },
  {
   "cell_type": "code",
   "execution_count": 25,
   "metadata": {},
   "outputs": [
    {
     "data": {
      "text/plain": [
       "755      POINT (-87.68336292252 41.854004777584)\n",
       "4148    POINT (-87.620227855065 41.765519043532)\n",
       "79        POINT (-87.7464713988 41.886578275155)\n",
       "4757    POINT (-87.684492394499 41.894013756589)\n",
       "1810    POINT (-87.664410492891 41.956229834343)\n",
       "3138    POINT (-87.630622884334 41.869057497035)\n",
       "2019    POINT (-87.664220102048 41.869188082212)\n",
       "725     POINT (-87.650868796101 41.893226268739)\n",
       "5295    POINT (-87.679205887162 41.964260547715)\n",
       "653     POINT (-87.684313325796 41.890810447097)\n",
       "1688     POINT (-87.65100156848 41.918252049629)\n",
       "5241    POINT (-87.711951329036 41.913770262524)\n",
       "857     POINT (-87.624120178402 41.859640854667)\n",
       "2496    POINT (-87.729323368202 41.789420942558)\n",
       "2230     POINT (-87.627377031854 41.87174546459)\n",
       "3123     POINT (-87.69267507525 41.791803082466)\n",
       "2766    POINT (-87.632095536704 41.787175172589)\n",
       "1971    POINT (-87.680939146663 41.957505176618)\n",
       "3040    POINT (-87.695252593724 41.844800785514)\n",
       "2194    POINT (-87.703542099988 41.926561291566)\n",
       "Name: LOCATION, dtype: object"
      ]
     },
     "execution_count": 25,
     "metadata": {},
     "output_type": "execute_result"
    }
   ],
   "source": [
    "df.LOCATION.sample(20)"
   ]
  },
  {
   "cell_type": "code",
   "execution_count": 15,
   "metadata": {},
   "outputs": [
    {
     "data": {
      "image/png": "[encoded data removed]",
      "text/plain": [
       "<Figure size 432x288 with 2 Axes>"
      ]
     },
     "metadata": {
      "needs_background": "light"
     },
     "output_type": "display_data"
    }
   ],
   "source": [
    "df[['CRASH_HOUR','POSTED_SPEED_LIMIT']].hist()\n",
    "plt.show()\n",
    "\n",
    "# df[['LIGHTING_CONDITION','MOST_SEVERE_INJURY']].hist()\n",
    "# plt.show()\n",
    "\n",
    "# df['DOORING_I'].hist()\n",
    "# plt.show()"
   ]
  },
  {
   "cell_type": "code",
   "execution_count": 16,
   "metadata": {},
   "outputs": [
    {
     "data": {
      "text/plain": [
       "NONINCAPACITATING INJURY    2608\n",
       "NO INDICATION OF INJURY     1956\n",
       "REPORTED, NOT EVIDENT        664\n",
       "INCAPACITATING INJURY        512\n",
       "FATAL                         16\n",
       "Name: MOST_SEVERE_INJURY, dtype: int64"
      ]
     },
     "execution_count": 16,
     "metadata": {},
     "output_type": "execute_result"
    }
   ],
   "source": [
    "df.MOST_SEVERE_INJURY.value_counts()"
   ]
  },
  {
   "cell_type": "code",
   "execution_count": 10,
   "metadata": {},
   "outputs": [],
   "source": [
    "#assign values to injury categories\n",
    "\n",
    "df['MSI_num'] = 0 #0 will be \"NO INDICATION OF INJURY\"\n",
    "\n",
    "I = df.MOST_SEVERE_INJURY == 'REPORTED, NOT EVIDENT'\n",
    "df.loc[I,'MSI_num'] = 1\n",
    "I = df.MOST_SEVERE_INJURY == 'NONINCAPACITATING INJURY'\n",
    "df.loc[I,'MSI_num'] = 2\n",
    "I = df.MOST_SEVERE_INJURY == 'INCAPACITATING INJURY'\n",
    "df.loc[I,'MSI_num'] = 3\n",
    "I = df.MOST_SEVERE_INJURY == 'FATAL'\n",
    "df.loc[I,'MSI_num'] = 4"
   ]
  },
  {
   "cell_type": "code",
   "execution_count": 11,
   "metadata": {},
   "outputs": [
    {
     "data": {
      "text/plain": [
       "<AxesSubplot: >"
      ]
     },
     "execution_count": 11,
     "metadata": {},
     "output_type": "execute_result"
    },
    {
     "data": {
      "image/png": "[encoded data removed]",
      "text/plain": [
       "<Figure size 432x288 with 1 Axes>"
      ]
     },
     "metadata": {
      "needs_background": "light"
     },
     "output_type": "display_data"
    }
   ],
   "source": [
    "df.MSI_num.hist()"
   ]
  },
  {
   "cell_type": "code",
   "execution_count": 14,
   "metadata": {},
   "outputs": [
    {
     "data": {
      "image/png": "[encoded data removed]",
      "text/plain": [
       "<Figure size 864x216 with 3 Axes>"
      ]
     },
     "metadata": {
      "needs_background": "light"
     },
     "output_type": "display_data"
    }
   ],
   "source": [
    "speed_r = [(0,26),(26,36),(36,98)]\n",
    "Ns = len(speed_r)\n",
    "\n",
    "fig,ax = plt.subplots(1,Ns,figsize=(Ns*4,3))\n",
    "\n",
    "edges = np.arange(-0.5,4.5+1,1)\n",
    "bins = edges[:-1]+0.5\n",
    "\n",
    "for ii,sr in enumerate(speed_r):\n",
    "    I1 = df.POSTED_SPEED_LIMIT >= sr[0]\n",
    "    I2 = df.POSTED_SPEED_LIMIT < sr[1]\n",
    "    ax[ii].hist(df.loc[I1&I2,'MSI_num'].values,bins=edges,rwidth=0.5)\n",
    "    ax[ii].set_title(sr)\n",
    "    ax[ii].set_xlabel('MSI category')\n",
    "    \n",
    "plt.show()"
   ]
  },
  {
   "cell_type": "code",
   "execution_count": 21,
   "metadata": {},
   "outputs": [
    {
     "data": {
      "text/plain": [
       "929     10/02/2019 09:50:00 AM\n",
       "2217    07/06/2017 02:30:00 PM\n",
       "3337    08/31/2017 10:20:00 AM\n",
       "4441    10/26/2016 01:35:00 PM\n",
       "5154    07/30/2019 07:10:00 PM\n",
       "2242    08/19/2019 04:28:00 PM\n",
       "4583    08/30/2018 07:30:00 PM\n",
       "5495    05/17/2018 02:23:00 PM\n",
       "1520    08/28/2019 08:05:00 PM\n",
       "4424    06/06/2019 06:30:00 PM\n",
       "4436    02/20/2020 09:00:00 AM\n",
       "1087    10/16/2017 03:25:00 PM\n",
       "3604    10/07/2018 02:40:00 AM\n",
       "2202    06/24/2019 12:00:00 PM\n",
       "4799    11/01/2017 08:30:00 AM\n",
       "3800    05/18/2019 03:57:00 PM\n",
       "4323    10/11/2019 02:59:00 PM\n",
       "4174    06/28/2018 07:50:00 PM\n",
       "5579    07/27/2017 08:03:00 AM\n",
       "1275    07/20/2019 05:54:00 PM\n",
       "Name: CRASH_DATE, dtype: object"
      ]
     },
     "execution_count": 21,
     "metadata": {},
     "output_type": "execute_result"
    }
   ],
   "source": [
    "df.CRASH_DATE.sample(20)"
   ]
  },
  {
   "cell_type": "code",
   "execution_count": null,
   "metadata": {},
   "outputs": [],
   "source": []
  }
 ],
 "metadata": {
  "kernelspec": {
   "display_name": "3.8.6",
   "language": "python",
   "name": "3.8.6"
  },
  "language_info": {
   "codemirror_mode": {
    "name": "ipython",
    "version": 3
   },
   "file_extension": ".py",
   "mimetype": "text/x-python",
   "name": "python",
   "nbconvert_exporter": "python",
   "pygments_lexer": "ipython3",
   "version": "3.8.6"
  }
 },
 "nbformat": 4,
 "nbformat_minor": 4
}
