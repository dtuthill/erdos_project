{
 "cells": [
  {
   "cell_type": "code",
   "execution_count": 1,
   "id": "94bfb2a5-3e6d-4789-8408-db773e2f707f",
   "metadata": {},
   "outputs": [],
   "source": [
    "import numpy as np\n",
    "import matplotlib.pyplot as plt\n",
    "import pandas as pd"
   ]
  },
  {
   "cell_type": "code",
   "execution_count": 2,
   "id": "1f85d40b-3993-4a3f-8ef2-a8dbfe5aad9a",
   "metadata": {},
   "outputs": [],
   "source": [
    "cities = ['seattle','new_york']\n",
    "\n",
    "df = {}\n",
    "for c in cities:\n",
    "    path = '../Data/%s/cycling_safety_%s.csv'%(c,c)\n",
    "    df[c] = pd.read_csv(path)"
   ]
  },
  {
   "cell_type": "code",
   "execution_count": 3,
   "id": "65349deb-2278-48dc-8d29-25d365e8762d",
   "metadata": {},
   "outputs": [
    {
     "data": {
      "text/plain": [
       "['Unnamed: 0',\n",
       " 'X',\n",
       " 'Y',\n",
       " 'OBJECTID',\n",
       " 'INCKEY',\n",
       " 'COLDETKEY',\n",
       " 'REPORTNO',\n",
       " 'STATUS',\n",
       " 'ADDRTYPE',\n",
       " 'INTKEY',\n",
       " 'LOCATION',\n",
       " 'EXCEPTRSNCODE',\n",
       " 'EXCEPTRSNDESC',\n",
       " 'SEVERITYCODE',\n",
       " 'SEVERITYDESC',\n",
       " 'COLLISIONTYPE',\n",
       " 'PERSONCOUNT',\n",
       " 'PEDCOUNT',\n",
       " 'PEDCYLCOUNT',\n",
       " 'VEHCOUNT',\n",
       " 'INJURIES',\n",
       " 'SERIOUSINJURIES',\n",
       " 'FATALITIES',\n",
       " 'INCDATE',\n",
       " 'INCDTTM',\n",
       " 'JUNCTIONTYPE',\n",
       " 'SDOT_COLCODE',\n",
       " 'SDOT_COLDESC',\n",
       " 'INATTENTIONIND',\n",
       " 'UNDERINFL',\n",
       " 'WEATHER',\n",
       " 'ROADCOND',\n",
       " 'LIGHTCOND',\n",
       " 'PEDROWNOTGRNT',\n",
       " 'SDOTCOLNUM',\n",
       " 'SPEEDING',\n",
       " 'ST_COLCODE',\n",
       " 'ST_COLDESC',\n",
       " 'SEGLANEKEY',\n",
       " 'CROSSWALKKEY',\n",
       " 'HITPARKEDCAR',\n",
       " 'Date',\n",
       " 'Latitude',\n",
       " 'Longitude',\n",
       " 'geometry',\n",
       " 'index_right']"
      ]
     },
     "execution_count": 3,
     "metadata": {},
     "output_type": "execute_result"
    }
   ],
   "source": [
    "list(df['seattle'].keys())"
   ]
  },
  {
   "cell_type": "code",
   "execution_count": 27,
   "id": "744a603b-a5af-41b0-a0fb-3fb743fe2b88",
   "metadata": {},
   "outputs": [
    {
     "data": {
      "text/plain": [
       "1    4979\n",
       "0     686\n",
       "2     132\n",
       "3       9\n",
       "5       1\n",
       "Name: INJURIES, dtype: int64"
      ]
     },
     "execution_count": 27,
     "metadata": {},
     "output_type": "execute_result"
    }
   ],
   "source": [
    "df['SEVERITY'].INJURIES.value_counts()"
   ]
  },
  {
   "cell_type": "code",
   "execution_count": 33,
   "id": "a0f383a4-94ab-42e4-858c-b24912016c49",
   "metadata": {},
   "outputs": [
    {
     "data": {
      "text/plain": [
       "['Unnamed: 0',\n",
       " 'CRASH DATE',\n",
       " 'CRASH TIME',\n",
       " 'BOROUGH',\n",
       " 'ZIP CODE',\n",
       " 'LATITUDE',\n",
       " 'LONGITUDE',\n",
       " 'LOCATION',\n",
       " 'ON STREET NAME',\n",
       " 'CROSS STREET NAME',\n",
       " 'OFF STREET NAME',\n",
       " 'NUMBER OF PERSONS INJURED',\n",
       " 'NUMBER OF PERSONS KILLED',\n",
       " 'NUMBER OF PEDESTRIANS INJURED',\n",
       " 'NUMBER OF PEDESTRIANS KILLED',\n",
       " 'NUMBER OF CYCLIST INJURED',\n",
       " 'NUMBER OF CYCLIST KILLED',\n",
       " 'NUMBER OF MOTORIST INJURED',\n",
       " 'NUMBER OF MOTORIST KILLED',\n",
       " 'CONTRIBUTING FACTOR VEHICLE 1',\n",
       " 'CONTRIBUTING FACTOR VEHICLE 2',\n",
       " 'CONTRIBUTING FACTOR VEHICLE 3',\n",
       " 'CONTRIBUTING FACTOR VEHICLE 4',\n",
       " 'CONTRIBUTING FACTOR VEHICLE 5',\n",
       " 'COLLISION_ID',\n",
       " 'VEHICLE TYPE CODE 1',\n",
       " 'VEHICLE TYPE CODE 2',\n",
       " 'VEHICLE TYPE CODE 3',\n",
       " 'VEHICLE TYPE CODE 4',\n",
       " 'VEHICLE TYPE CODE 5',\n",
       " 'Date',\n",
       " 'Longitude',\n",
       " 'Latitude',\n",
       " 'geometry',\n",
       " 'index_right',\n",
       " 'injury_b']"
      ]
     },
     "execution_count": 33,
     "metadata": {},
     "output_type": "execute_result"
    }
   ],
   "source": [
    "list(df['new_york'].keys())"
   ]
  },
  {
   "cell_type": "code",
   "execution_count": 23,
   "id": "50fab8de-7495-4c2a-89cd-5e1d903c5572",
   "metadata": {},
   "outputs": [],
   "source": [
    "#make no injury - injury/fatality column for New York and Seattle\n",
    "\n",
    "df['new_york']['injury_b'] = np.zeros(df['new_york'].shape[0]).astype(int) #0 will be flag for no injury, 1 is flag for injury/fatality\n",
    "I1 = df['new_york']['NUMBER OF CYCLIST INJURED'] > 0\n",
    "I2 = df['new_york']['NUMBER OF CYCLIST KILLED'] > 0\n",
    "I = np.logical_or(I1,I2)\n",
    "df['new_york'].loc[I,'injury_b'] = 1"
   ]
  },
  {
   "cell_type": "code",
   "execution_count": 28,
   "id": "ba412593-2789-43e0-a170-e6808661cf09",
   "metadata": {},
   "outputs": [],
   "source": [
    "df['seattle']['injury_b'] = np.zeros(df['seattle'].shape[0]).astype(int)\n",
    "I1 = df['seattle']['SERIOUSINJURIES'] > 0 \n",
    "I2 = df['seattle']['INJURIES'] > 0 \n",
    "I3 = df['seattle']['FATALITIES'] > 0\n",
    "I = np.logical_or(I1,I2,I3)\n",
    "df['seattle'].loc[I,'injury_b'] = 1"
   ]
  },
  {
   "cell_type": "code",
   "execution_count": 32,
   "id": "0ab295c1-4740-49d3-9a55-871260a6d2dc",
   "metadata": {},
   "outputs": [
    {
     "data": {
      "image/png": "[encoded data removed]",
      "text/plain": [
       "<Figure size 1000x400 with 2 Axes>"
      ]
     },
     "metadata": {},
     "output_type": "display_data"
    }
   ],
   "source": [
    "fig,ax = plt.subplots(1,2,figsize=(2*5,4))\n",
    "\n",
    "edges = [-0.5,0.5,1.5]\n",
    "\n",
    "ii=0\n",
    "c = 'seattle'\n",
    "ax[ii].hist(df[c]['injury_b'],bins=edges,rwidth=0.5)\n",
    "ax[ii].set_title(c)\n",
    "ax[ii].set_xlabel('Injury or Fatality?')\n",
    "ax[ii].set_ylabel('total')\n",
    "ax[ii].set_xticks([0,1])\n",
    "\n",
    "ii=1\n",
    "c = 'new_york'\n",
    "ax[ii].hist(df[c]['injury_b'],bins=edges,rwidth=0.5)\n",
    "ax[ii].set_title(c)\n",
    "ax[ii].set_xlabel('Injury or Fatality?')\n",
    "ax[ii].set_ylabel('total')\n",
    "ax[ii].set_xticks([0,1])\n",
    "\n",
    "plt.show()"
   ]
  },
  {
   "cell_type": "code",
   "execution_count": 35,
   "id": "6291a6e8-94b7-4619-83dd-bbba29ce0ffa",
   "metadata": {},
   "outputs": [
    {
     "data": {
      "text/plain": [
       "13340    2013-06-25\n",
       "39067    2014-09-14\n",
       "7756     2019-05-08\n",
       "4343     2019-08-04\n",
       "25405    2017-05-08\n",
       "535      2013-09-23\n",
       "27916    2016-10-05\n",
       "3312     2019-09-16\n",
       "17957    2012-08-25\n",
       "21560    2013-01-20\n",
       "661      2020-01-15\n",
       "34277    2015-09-14\n",
       "24989    2017-05-28\n",
       "37732    2015-01-06\n",
       "6059     2019-06-26\n",
       "34891    2015-08-20\n",
       "16472    2018-05-09\n",
       "11492    2018-10-14\n",
       "2770     2019-10-09\n",
       "23171    2017-08-21\n",
       "31135    2016-06-14\n",
       "33717    2015-09-26\n",
       "8547     2019-03-17\n",
       "12765    2013-08-22\n",
       "1890     2014-05-23\n",
       "23699    2017-07-18\n",
       "40310    2014-06-29\n",
       "25085    2017-05-20\n",
       "27397    2016-11-06\n",
       "2772     2019-10-18\n",
       "Name: Date, dtype: object"
      ]
     },
     "execution_count": 35,
     "metadata": {},
     "output_type": "execute_result"
    }
   ],
   "source": [
    "df['new_york'].Date.sample(30)"
   ]
  },
  {
   "cell_type": "code",
   "execution_count": null,
   "id": "49fc70c8-80fe-458f-bdf8-58af5fffee9c",
   "metadata": {},
   "outputs": [],
   "source": []
  }
 ],
 "metadata": {
  "kernelspec": {
   "display_name": "Python 3 (ipykernel)",
   "language": "python",
   "name": "python3"
  },
  "language_info": {
   "codemirror_mode": {
    "name": "ipython",
    "version": 3
   },
   "file_extension": ".py",
   "mimetype": "text/x-python",
   "name": "python",
   "nbconvert_exporter": "python",
   "pygments_lexer": "ipython3",
   "version": "3.8.5"
  }
 },
 "nbformat": 4,
 "nbformat_minor": 5
}
