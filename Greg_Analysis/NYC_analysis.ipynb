{
 "cells": [
  {
   "cell_type": "code",
   "execution_count": 1,
   "metadata": {},
   "outputs": [],
   "source": [
    "import numpy as np\n",
    "import matplotlib.pyplot as plt\n",
    "import pandas as pd"
   ]
  },
  {
   "cell_type": "code",
   "execution_count": 2,
   "metadata": {},
   "outputs": [],
   "source": [
    "path = '../Data/new_york/cycling_safety_new_york.csv'\n",
    "\n",
    "df = pd.read_csv(path)"
   ]
  },
  {
   "cell_type": "code",
   "execution_count": 4,
   "metadata": {},
   "outputs": [
    {
     "data": {
      "text/plain": [
       "['Unnamed: 0',\n",
       " 'CRASH DATE',\n",
       " 'CRASH TIME',\n",
       " 'BOROUGH',\n",
       " 'ZIP CODE',\n",
       " 'LATITUDE',\n",
       " 'LONGITUDE',\n",
       " 'LOCATION',\n",
       " 'ON STREET NAME',\n",
       " 'CROSS STREET NAME',\n",
       " 'OFF STREET NAME',\n",
       " 'NUMBER OF PERSONS INJURED',\n",
       " 'NUMBER OF PERSONS KILLED',\n",
       " 'NUMBER OF PEDESTRIANS INJURED',\n",
       " 'NUMBER OF PEDESTRIANS KILLED',\n",
       " 'NUMBER OF CYCLIST INJURED',\n",
       " 'NUMBER OF CYCLIST KILLED',\n",
       " 'NUMBER OF MOTORIST INJURED',\n",
       " 'NUMBER OF MOTORIST KILLED',\n",
       " 'CONTRIBUTING FACTOR VEHICLE 1',\n",
       " 'CONTRIBUTING FACTOR VEHICLE 2',\n",
       " 'CONTRIBUTING FACTOR VEHICLE 3',\n",
       " 'CONTRIBUTING FACTOR VEHICLE 4',\n",
       " 'CONTRIBUTING FACTOR VEHICLE 5',\n",
       " 'COLLISION_ID',\n",
       " 'VEHICLE TYPE CODE 1',\n",
       " 'VEHICLE TYPE CODE 2',\n",
       " 'VEHICLE TYPE CODE 3',\n",
       " 'VEHICLE TYPE CODE 4',\n",
       " 'VEHICLE TYPE CODE 5',\n",
       " 'Date',\n",
       " 'Longitude',\n",
       " 'Latitude',\n",
       " 'geometry',\n",
       " 'index_right']"
      ]
     },
     "execution_count": 4,
     "metadata": {},
     "output_type": "execute_result"
    }
   ],
   "source": [
    "list(df.keys())"
   ]
  },
  {
   "cell_type": "code",
   "execution_count": 12,
   "metadata": {},
   "outputs": [
    {
     "data": {
      "text/plain": [
       "<AxesSubplot: >"
      ]
     },
     "execution_count": 12,
     "metadata": {},
     "output_type": "execute_result"
    },
    {
     "data": {
      "image/png": "[encoded data removed]",
      "text/plain": [
       "<Figure size 432x288 with 1 Axes>"
      ]
     },
     "metadata": {
      "needs_background": "light"
     },
     "output_type": "display_data"
    }
   ],
   "source": [
    "df['NUMBER OF CYCLIST INJURED'].hist()"
   ]
  },
  {
   "cell_type": "code",
   "execution_count": 16,
   "metadata": {},
   "outputs": [
    {
     "data": {
      "text/plain": [
       "Unspecified                                              30053\n",
       "Driver Inattention/Distraction                            2486\n",
       "Pedestrian/Bicyclist/Other Pedestrian Error/Confusion      984\n",
       "Passenger Distraction                                      688\n",
       "Other Vehicular                                            630\n",
       "Failure to Yield Right-of-Way                              418\n",
       "Passing or Lane Usage Improper                             404\n",
       "Traffic Control Disregarded                                294\n",
       "Passing Too Closely                                        192\n",
       "Following Too Closely                                      177\n",
       "Lost Consciousness                                         147\n",
       "Unsafe Speed                                               145\n",
       "Driver Inexperience                                        138\n",
       "Physical Disability                                        126\n",
       "Turning Improperly                                         105\n",
       "View Obstructed/Limited                                     97\n",
       "Fatigued/Drowsy                                             75\n",
       "Unsafe Lane Changing                                        72\n",
       "Pavement Slippery                                           47\n",
       "Alcohol Involvement                                         46\n",
       "Backing Unsafely                                            41\n",
       "Prescription Medication                                     39\n",
       "Reaction to Uninvolved Vehicle                              35\n",
       "Aggressive Driving/Road Rage                                34\n",
       "Outside Car Distraction                                     32\n",
       "Brakes Defective                                            21\n",
       "Failure to Keep Right                                       19\n",
       "Reaction to Other Uninvolved Vehicle                        17\n",
       "Headlights Defective                                        14\n",
       "Obstruction/Debris                                          14\n",
       "Other Lighting Defects                                      13\n",
       "Illness                                                     11\n",
       "Lane Marking Improper/Inadequate                            11\n",
       "Fell Asleep                                                  8\n",
       "Other Electronic Device                                      7\n",
       "Pavement Defective                                           7\n",
       "Glare                                                        5\n",
       "Cell Phone (hand-Held)                                       5\n",
       "Listening/Using Headphones                                   4\n",
       "Cell Phone (hands-free)                                      4\n",
       "Oversized Vehicle                                            3\n",
       "Drugs (Illegal)                                              3\n",
       "Traffic Control Device Improper/Non-Working                  2\n",
       "Tire Failure/Inadequate                                      1\n",
       "Animals Action                                               1\n",
       "Driverless/Runaway Vehicle                                   1\n",
       "Cell Phone (hand-held)                                       1\n",
       "Windshield Inadequate                                        1\n",
       "Name: CONTRIBUTING FACTOR VEHICLE 2, dtype: int64"
      ]
     },
     "execution_count": 16,
     "metadata": {},
     "output_type": "execute_result"
    }
   ],
   "source": [
    "df['CONTRIBUTING FACTOR VEHICLE 2'].value_counts()"
   ]
  },
  {
   "cell_type": "code",
   "execution_count": null,
   "metadata": {},
   "outputs": [],
   "source": []
  }
 ],
 "metadata": {
  "kernelspec": {
   "display_name": "3.8.6",
   "language": "python",
   "name": "3.8.6"
  },
  "language_info": {
   "codemirror_mode": {
    "name": "ipython",
    "version": 3
   },
   "file_extension": ".py",
   "mimetype": "text/x-python",
   "name": "python",
   "nbconvert_exporter": "python",
   "pygments_lexer": "ipython3",
   "version": "3.8.6"
  }
 },
 "nbformat": 4,
 "nbformat_minor": 4
}
