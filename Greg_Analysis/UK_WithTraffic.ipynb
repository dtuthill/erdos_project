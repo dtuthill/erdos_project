{
 "cells": [
  {
   "cell_type": "code",
   "execution_count": 1,
   "metadata": {},
   "outputs": [],
   "source": [
    "import numpy as np\n",
    "import matplotlib.pyplot as plt\n",
    "import pandas as pd\n",
    "\n",
    "def logic_win(x,x_r):\n",
    "    return (x >= x_r[0]) & (x < x_r[1])"
   ]
  },
  {
   "cell_type": "code",
   "execution_count": 5,
   "metadata": {},
   "outputs": [],
   "source": [
    "path = '../Data/UK/combined_collisions.csv'\n",
    "\n",
    "df = pd.read_csv(path)\n",
    "df.drop(columns='Unnamed: 0',inplace=True)"
   ]
  },
  {
   "cell_type": "markdown",
   "metadata": {},
   "source": [
    "#### Clean up dataset"
   ]
  },
  {
   "cell_type": "code",
   "execution_count": 6,
   "metadata": {},
   "outputs": [],
   "source": [
    "#Time column has some nans in it, must drop those entries\n",
    "\n",
    "def is_str(x):\n",
    "    Nx = len(x)\n",
    "    I = np.ones(Nx).astype(bool)\n",
    "    for ii in range(Nx):\n",
    "        if type(x[ii]) != str:\n",
    "            I[ii] = False\n",
    "    return I\n",
    "\n",
    "df = df.loc[is_str(df.Time.values),:]"
   ]
  },
  {
   "cell_type": "code",
   "execution_count": 7,
   "metadata": {},
   "outputs": [],
   "source": [
    "#make hour, year and month columns\n",
    "    #hour will be rounded \n",
    "def get_hour(T):\n",
    "    Nt = len(T)\n",
    "    H = np.zeros(Nt).astype(int)\n",
    "    for ii in range(Nt):\n",
    "        s = T[ii].split(':')\n",
    "        h = int(s[0])\n",
    "        m = int(s[1])\n",
    "        if m > 30:\n",
    "            h += 1\n",
    "        H[ii] = h % 24\n",
    "    return H\n",
    "\n",
    "def get_ymd(D):\n",
    "    Nd = len(D)\n",
    "    # |\n",
    "    ymd = np.zeros((Nd,3)).astype(int)\n",
    "    for ii in range(Nd):\n",
    "        s = D[ii].split('-')\n",
    "        for nn in range(3):\n",
    "            ymd[ii,nn] = int(s[nn])\n",
    "    return ymd\n",
    "\n",
    "df[['y','m','d']] = get_ymd(df.Date.values)\n",
    "df['h'] = get_hour(df.Time.values)"
   ]
  },
  {
   "cell_type": "code",
   "execution_count": 8,
   "metadata": {},
   "outputs": [],
   "source": [
    "#filter data out for a partciular geographic location. Here we choose Greater London\n",
    "\n",
    "#central London box\n",
    "Lat_r = [51.475,51.543]\n",
    "Lon_r = [-0.179,0.023]\n",
    "\n",
    "I_lat = (df.Latitude > Lat_r[0]) & (df.Latitude < Lat_r[1])\n",
    "I_lon = (df.Longitude > Lon_r[0]) & (df.Longitude < Lon_r[1])\n",
    "I = I_lat & I_lon\n",
    "\n",
    "df_lond = df.loc[I,:].copy()"
   ]
  },
  {
   "cell_type": "code",
   "execution_count": 18,
   "metadata": {},
   "outputs": [],
   "source": [
    "#drop all data that don't have traffic matches\n",
    "\n",
    "I = df_lond.match == True\n",
    "df_lond = df_lond.loc[I,:]"
   ]
  },
  {
   "cell_type": "markdown",
   "metadata": {},
   "source": [
    "#### Make neighborhoods features"
   ]
  },
  {
   "cell_type": "code",
   "execution_count": 11,
   "metadata": {},
   "outputs": [],
   "source": [
    "#Make a 3 (Lat, N/S) x 6 (Lon, E/W) grid\n",
    "Nlat = 3\n",
    "Nlon = 6\n",
    "Nneigh = Nlon*Nlat\n",
    "\n",
    "edges_lat = np.linspace(*Lat_r,Nlat+1)\n",
    "dlat = np.diff(edges_lat)[0]\n",
    "bins_lat = edges_lat[:-1]+0.5*dlat\n",
    "edges_lon = np.linspace(*Lon_r,Nlon+1)\n",
    "dlon = np.diff(edges_lon)[0]\n",
    "bins_lon = edges_lon[:-1]+0.5*dlon\n",
    "\n",
    "coord_neigh = [None]*Nneigh\n",
    "\n",
    "df_lond['neigh'] = 0 #initialize neighborhood feature\n",
    "ir = 0 #these are lat bins (rows)\n",
    "ic = 0 #lon bins\n",
    "for ii in range(Nneigh):\n",
    "    Ilat = logic_win(df_lond.Latitude,(edges_lat[ir],edges_lat[ir+1]))\n",
    "    Ilon = logic_win(df_lond.Longitude,(edges_lon[ic],edges_lon[ic+1]))\n",
    "    I = Ilat & Ilon\n",
    "    df_lond.loc[I,'neigh'] = ii\n",
    "    \n",
    "    coord_neigh[ii] = np.array([bins_lat[ir],bins_lon[ic]])\n",
    "    \n",
    "    ic+=1\n",
    "    if ic == Nlon:\n",
    "        ic = 0\n",
    "        ir+=1"
   ]
  },
  {
   "cell_type": "markdown",
   "metadata": {},
   "source": [
    "#### Look at traffic volume in neighborhoods"
   ]
  },
  {
   "cell_type": "code",
   "execution_count": 29,
   "metadata": {},
   "outputs": [
    {
     "data": {
      "image/png": "[encoded data removed]",
      "text/plain": [
       "<Figure size 432x288 with 1 Axes>"
      ]
     },
     "metadata": {
      "needs_background": "light"
     },
     "output_type": "display_data"
    }
   ],
   "source": [
    "#get average traffic volume across all incidents for neighborhoods\n",
    "\n",
    "feat = 'aadf_All_motor_vehicles'\n",
    "#feat = 'aadf_Pedal_cycles'\n",
    "\n",
    "TVol_neigh = np.zeros(Nneigh)\n",
    "for ii in range(Nneigh):\n",
    "    I = df_lond.neigh == ii\n",
    "    TVol_neigh[ii] = df_lond.loc[I,feat].values.mean()\n",
    "    \n",
    "plt.bar(np.arange(Nneigh).astype(int),TVol_neigh,width=0.5)\n",
    "plt.xlabel('neighborhood')\n",
    "plt.ylabel('average traffic vol (all motor vehicles)')\n",
    "plt.xticks(np.arange(Nneigh).astype(int))\n",
    "plt.show()"
   ]
  },
  {
   "cell_type": "code",
   "execution_count": 30,
   "metadata": {},
   "outputs": [
    {
     "data": {
      "image/png": "[encoded data removed]",
      "text/plain": [
       "<Figure size 432x288 with 1 Axes>"
      ]
     },
     "metadata": {
      "needs_background": "light"
     },
     "output_type": "display_data"
    }
   ],
   "source": [
    "#get average bike volume across all incidents for neighborhoods\n",
    "\n",
    "#feat = 'aadf_All_motor_vehicles'\n",
    "feat = 'aadf_Pedal_cycles'\n",
    "\n",
    "TVol_neigh = np.zeros(Nneigh)\n",
    "for ii in range(Nneigh):\n",
    "    I = df_lond.neigh == ii\n",
    "    TVol_neigh[ii] = df_lond.loc[I,feat].values.mean()\n",
    "    \n",
    "plt.bar(np.arange(Nneigh).astype(int),TVol_neigh,width=0.5)\n",
    "plt.xlabel('neighborhood')\n",
    "plt.ylabel('average bike vol')\n",
    "plt.xticks(np.arange(Nneigh).astype(int))\n",
    "plt.show()"
   ]
  },
  {
   "cell_type": "code",
   "execution_count": 31,
   "metadata": {},
   "outputs": [
    {
     "data": {
      "image/png": "[encoded data removed]",
      "text/plain": [
       "<Figure size 432x288 with 1 Axes>"
      ]
     },
     "metadata": {
      "needs_background": "light"
     },
     "output_type": "display_data"
    }
   ],
   "source": [
    "#get total # of incidents in neighborhoods \n",
    "\n",
    "#feat = 'aadf_All_motor_vehicles'\n",
    "feat = 'aadf_Pedal_cycles'\n",
    "\n",
    "TInc_neigh = np.zeros(Nneigh)\n",
    "for ii in range(Nneigh):\n",
    "    I = df_lond.neigh.values == ii\n",
    "    TInc_neigh[ii] = I.sum()\n",
    "    \n",
    "plt.bar(np.arange(Nneigh).astype(int),TInc_neigh,width=0.5)\n",
    "plt.xlabel('neighborhood')\n",
    "plt.ylabel('total # of incidents')\n",
    "plt.xticks(np.arange(Nneigh).astype(int))\n",
    "plt.show()"
   ]
  },
  {
   "cell_type": "code",
   "execution_count": null,
   "metadata": {},
   "outputs": [],
   "source": []
  }
 ],
 "metadata": {
  "kernelspec": {
   "display_name": "3.8.6",
   "language": "python",
   "name": "3.8.6"
  },
  "language_info": {
   "codemirror_mode": {
    "name": "ipython",
    "version": 3
   },
   "file_extension": ".py",
   "mimetype": "text/x-python",
   "name": "python",
   "nbconvert_exporter": "python",
   "pygments_lexer": "ipython3",
   "version": "3.8.6"
  }
 },
 "nbformat": 4,
 "nbformat_minor": 4
}
