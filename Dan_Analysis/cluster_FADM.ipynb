{
 "cells": [
  {
   "cell_type": "code",
   "execution_count": 1,
   "id": "c329a12d-1efc-48b0-9d4a-de9874fe02eb",
   "metadata": {},
   "outputs": [],
   "source": [
    "import numpy as np\n",
    "import pandas as pd\n",
    "import matplotlib.pyplot as plt"
   ]
  },
  {
   "cell_type": "code",
   "execution_count": 2,
   "id": "00e46d3d-b2e0-46a2-b56d-d062fbefb1cf",
   "metadata": {},
   "outputs": [],
   "source": [
    "def logic_win(x,x_r):\n",
    "    return (x >= x_r[0]) & (x < x_r[1])\n",
    "\n",
    "def make_bins(xlim,dx):\n",
    "    Edges_x = np.arange(xlim[0],xlim[1]+dx,dx)\n",
    "    Bins_x = Edges_x[:-1]+dx/2\n",
    "    return Edges_x,Bins_x\n",
    "\n",
    "def ind_match(x,A):\n",
    "    return np.argwhere(A == x)[:,0][0]"
   ]
  },
  {
   "cell_type": "code",
   "execution_count": 3,
   "id": "a4fca05f-e9ab-4bff-bf83-f21eb75fb62a",
   "metadata": {},
   "outputs": [],
   "source": [
    "path = '../DataFrames/df_road_v3_zeros.csv'\n",
    "df_road = pd.read_csv(path)"
   ]
  },
  {
   "cell_type": "code",
   "execution_count": 4,
   "id": "2fc757db-f4d2-4681-b552-ad1579a79161",
   "metadata": {},
   "outputs": [],
   "source": [
    "Ys = 2005 #must start before or on this year\n",
    "Ye = 2018 #must end this year or later\n",
    "\n",
    "Igap = df_road.Max_year_gap == 1 #we don't want gaps\n",
    "Istart = df_road.Year_start <= Ys\n",
    "Iend = df_road.Year_end >= Ye\n",
    "Iyears = Igap & Istart & Iend\n",
    "\n",
    "df_road_sub = df_road.loc[Iyears,:].copy()"
   ]
  },
  {
   "cell_type": "code",
   "execution_count": 8,
   "id": "7a49c837-c0b5-4b74-8a3f-66ebc2c764b6",
   "metadata": {},
   "outputs": [],
   "source": [
    "f_include = ['ID', 'total', 'slight', 'serious',\n",
    "       'bikelane','aadf_Road_name', 'aadf_Road_category', 'aadf_Road_type',\n",
    "       'aadf_CLT_CARR', 'aadf_CLT_SEGREG', 'aadf_CLT_STEPP', 'aadf_CLT_PARSEG',\n",
    "       'aadf_CLT_SHARED', 'aadf_CLT_MANDAT', 'aadf_CLT_ADVIS',\n",
    "       'aadf_CLT_PRIORI', 'aadf_CLT_CONTRA', 'aadf_CLT_BIDIRE',\n",
    "       'aadf_CLT_CBYPAS', 'aadf_CLT_BBYPAS', 'aadf_CLT_PARKR',\n",
    "       'aadf_CLT_WATERR', 'aadf_CLT_PTIME', 'aadf_Link_length_miles',\n",
    "       'aadf_Pedal_cycles', 'aadf_All_motor_vehicles',\n",
    "       'aadf_All_HGVs', 'aadf_LGVs', 'aadf_Buses_and_coaches', 'total_dnorm',\n",
    "       'total_dnorm_bvnorm', 'serious_ratio']\n",
    "\n",
    "df_cluster = df_road_sub[f_include].copy()\n",
    "\n",
    "#make a sample length scaled total normalized to aadf_Link_length instead\n",
    "LL_med = df_cluster.aadf_Link_length_miles.median()\n",
    "df_cluster['total_dnorm_LL'] = df_cluster.total.values*LL_med/df_cluster.aadf_Link_length_miles.values"
   ]
  },
  {
   "cell_type": "code",
   "execution_count": 9,
   "id": "7bc112e0-e8c2-4470-b887-9b3889a939be",
   "metadata": {},
   "outputs": [],
   "source": [
    "f_scale = ['aadf_Pedal_cycles', 'aadf_All_motor_vehicles',\n",
    "       'aadf_All_HGVs', 'aadf_LGVs', 'aadf_Buses_and_coaches']\n",
    "\n",
    "for f in f_scale:\n",
    "    fname = f+'_s'\n",
    "    mean = df_cluster[f].mean()\n",
    "    std = df_cluster[f].std()\n",
    "    #df_cluster.loc[:,f] = (df_cluster[f].values - mean)/std\n",
    "    df_cluster[fname] = (df_cluster[f].values - mean)/std"
   ]
  },
  {
   "cell_type": "code",
   "execution_count": 10,
   "id": "a821eedf-f01e-4507-88df-b8955f69f4c8",
   "metadata": {},
   "outputs": [],
   "source": [
    "#pick which features to try clustering on\n",
    "f_cluster = ['bikelane','aadf_Pedal_cycles_s', 'aadf_All_motor_vehicles_s', 'aadf_All_HGVs_s',\n",
    "       'aadf_LGVs_s', 'aadf_Buses_and_coaches_s']\n",
    "\n",
    "from sklearn.cluster import KMeans\n",
    "from sklearn.metrics import silhouette_score, silhouette_samples"
   ]
  },
  {
   "cell_type": "code",
   "execution_count": 20,
   "id": "72cd3219-d6cb-4823-92a8-0d1640d1d303",
   "metadata": {},
   "outputs": [],
   "source": [
    "import os\n",
    "os.environ[\"OMP_NUM_THREADS\"] = '9'"
   ]
  },
  {
   "cell_type": "code",
   "execution_count": 25,
   "id": "d64bb78d-2deb-4b46-a99c-8989d0334c04",
   "metadata": {},
   "outputs": [
    {
     "name": "stderr",
     "output_type": "stream",
     "text": [
      "C:\\Users\\tuthill.15\\Anaconda3\\envs\\geo_env\\Lib\\site-packages\\sklearn\\cluster\\_kmeans.py:1334: UserWarning: KMeans is known to have a memory leak on Windows with MKL, when there are less chunks than available threads. You can avoid it by setting the environment variable OMP_NUM_THREADS=9.\n",
      "  warnings.warn(\n"
     ]
    }
   ],
   "source": [
    "KM = KMeans(3)\n",
    "\n",
    "KM.fit(df_cluster[f_cluster])\n",
    "cluster_centers = KM.cluster_centers_\n",
    "\n",
    "inertias = KM.inertia_\n",
    "\n",
    "clusters = KM.predict(df_cluster[f_cluster])"
   ]
  },
  {
   "cell_type": "code",
   "execution_count": 28,
   "id": "241f8367-7824-41fb-9ba7-c99f1e8760ec",
   "metadata": {},
   "outputs": [
    {
     "data": {
      "text/plain": [
       "(array([0, 1, 2]), array([1610,  169,  340], dtype=int64))"
      ]
     },
     "execution_count": 28,
     "metadata": {},
     "output_type": "execute_result"
    }
   ],
   "source": [
    "np.unique(clusters, return_counts=True)"
   ]
  },
  {
   "cell_type": "code",
   "execution_count": null,
   "id": "d4d9c84a-6531-47f5-be78-a81d3d838d2d",
   "metadata": {},
   "outputs": [],
   "source": []
  }
 ],
 "metadata": {
  "kernelspec": {
   "display_name": "Python 3 (ipykernel)",
   "language": "python",
   "name": "python3"
  },
  "language_info": {
   "codemirror_mode": {
    "name": "ipython",
    "version": 3
   },
   "file_extension": ".py",
   "mimetype": "text/x-python",
   "name": "python",
   "nbconvert_exporter": "python",
   "pygments_lexer": "ipython3",
   "version": "3.11.0"
  }
 },
 "nbformat": 4,
 "nbformat_minor": 5
}
